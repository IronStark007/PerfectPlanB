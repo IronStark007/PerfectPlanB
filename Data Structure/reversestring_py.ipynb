{
  "nbformat": 4,
  "nbformat_minor": 0,
  "metadata": {
    "colab": {
      "name": "reversestring.py",
      "provenance": [],
      "collapsed_sections": [],
      "authorship_tag": "ABX9TyP1AGLmyo2LTK+t1s8bWs2J",
      "include_colab_link": true
    },
    "kernelspec": {
      "name": "python3",
      "display_name": "Python 3"
    }
  },
  "cells": [
    {
      "cell_type": "markdown",
      "metadata": {
        "id": "view-in-github",
        "colab_type": "text"
      },
      "source": [
        "<a href=\"https://colab.research.google.com/github/IronStark007/PerfectPlanB/blob/master/Data%20Structure/reversestring_py.ipynb\" target=\"_parent\"><img src=\"https://colab.research.google.com/assets/colab-badge.svg\" alt=\"Open In Colab\"/></a>"
      ]
    },
    {
      "cell_type": "markdown",
      "metadata": {
        "id": "W_Amfj4OX5tM",
        "colab_type": "text"
      },
      "source": [
        "# Program to reverse a string"
      ]
    },
    {
      "cell_type": "code",
      "metadata": {
        "id": "w6UaRqm7QIPc",
        "colab_type": "code",
        "colab": {}
      },
      "source": [
        "# 1)\n",
        "s = input(\"Enter string :\")\n",
        "l = s.split()\n",
        "nl = []\n",
        "for i in reversed(l):\n",
        "  nl.append(i)\n",
        "for j in nl:\n",
        "  print(j,end=\" \")\n",
        "\n",
        "# 2)\n",
        "l1 = s.split()\n",
        "l1.reverse()\n",
        "for k in l1:\n",
        "  print(k,end=\" \")"
      ],
      "execution_count": null,
      "outputs": []
    }
  ]
}