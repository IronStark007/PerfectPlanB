{
  "nbformat": 4,
  "nbformat_minor": 0,
  "metadata": {
    "colab": {
      "name": "sumvalues.py",
      "provenance": [],
      "collapsed_sections": [],
      "authorship_tag": "ABX9TyNbGKm+JVaw8yZxAxP0OVd4",
      "include_colab_link": true
    },
    "kernelspec": {
      "name": "python3",
      "display_name": "Python 3"
    }
  },
  "cells": [
    {
      "cell_type": "markdown",
      "metadata": {
        "id": "view-in-github",
        "colab_type": "text"
      },
      "source": [
        "<a href=\"https://colab.research.google.com/github/IronStark007/PerfectPlanB/blob/master/Data%20Structure/sumvalues_py.ipynb\" target=\"_parent\"><img src=\"https://colab.research.google.com/assets/colab-badge.svg\" alt=\"Open In Colab\"/></a>"
      ]
    },
    {
      "cell_type": "markdown",
      "metadata": {
        "id": "W_Amfj4OX5tM"
      },
      "source": [
        "# Program to sum all values of a dictionary"
      ]
    },
    {
      "cell_type": "code",
      "metadata": {
        "id": "w6UaRqm7QIPc"
      },
      "source": [
        "s = int(input(\"Enter size of tuples :\"))\n",
        "l = []\n",
        "for i in range(s):\n",
        "    print(f\"Enter {i+1} value of tuple\")\n",
        "    a = input(f\"Enter word for {i+1} :\")\n",
        "    b = int(input(f\"Enter number for {i+1} :\"))\n",
        "    l.append((a,b))\n",
        "d = {}\n",
        "for t in l:\n",
        "    d.update({t[0]:[t[1]]})\n",
        "print(d)"
      ],
      "execution_count": null,
      "outputs": []
    }
  ]
}