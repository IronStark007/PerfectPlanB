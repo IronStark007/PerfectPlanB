{
  "nbformat": 4,
  "nbformat_minor": 0,
  "metadata": {
    "colab": {
      "name": "ispalindrome.py",
      "provenance": [],
      "collapsed_sections": [],
      "authorship_tag": "ABX9TyMsRRQcJ4R9W80P/NXp//BE",
      "include_colab_link": true
    },
    "kernelspec": {
      "name": "python3",
      "display_name": "Python 3"
    }
  },
  "cells": [
    {
      "cell_type": "markdown",
      "metadata": {
        "id": "view-in-github",
        "colab_type": "text"
      },
      "source": [
        "<a href=\"https://colab.research.google.com/github/IronStark007/PerfectPlanB/blob/master/Data%20Structure/ispalindrome_py.ipynb\" target=\"_parent\"><img src=\"https://colab.research.google.com/assets/colab-badge.svg\" alt=\"Open In Colab\"/></a>"
      ]
    },
    {
      "cell_type": "markdown",
      "metadata": {
        "id": "W_Amfj4OX5tM",
        "colab_type": "text"
      },
      "source": [
        "# Program to Check given input is Palindrome or not"
      ]
    },
    {
      "cell_type": "code",
      "metadata": {
        "id": "w6UaRqm7QIPc",
        "colab_type": "code",
        "colab": {}
      },
      "source": [
        "def check(l):\n",
        "    for item in l:\n",
        "        if item%2 ==0:\n",
        "            return \"Yes\"\n",
        "        else:\n",
        "            return \"No\"\n",
        " \n",
        " \n",
        "s = input(\"Enter input :\")\n",
        "lst1 = []\n",
        "for i in s:\n",
        "  lst1.append(i.lower())\n",
        "d = {}\n",
        "for j in lst1:\n",
        "    d[j] = d.get(j,0) + 1\n",
        "lst2 = []\n",
        "for j in d.values():\n",
        "    lst2.append(j)\n",
        "l = len(lst2)\n",
        "if lst2[l-1]%2 == 0:\n",
        "    pass\n",
        "else:\n",
        "    lst2.pop()\n",
        "print(check(lst2))"
      ],
      "execution_count": null,
      "outputs": []
    }
  ]
}