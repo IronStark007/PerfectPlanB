{
  "nbformat": 4,
  "nbformat_minor": 0,
  "metadata": {
    "colab": {
      "name": "Swap1&last.py",
      "provenance": [],
      "collapsed_sections": [],
      "authorship_tag": "ABX9TyM95oMI3XIsQBD/RWIN64Cw",
      "include_colab_link": true
    },
    "kernelspec": {
      "name": "python3",
      "display_name": "Python 3"
    }
  },
  "cells": [
    {
      "cell_type": "markdown",
      "metadata": {
        "id": "view-in-github",
        "colab_type": "text"
      },
      "source": [
        "<a href=\"https://colab.research.google.com/github/IronStark007/PerfectPlanB/blob/master/Data%20Structure/Swap1%26last_py.ipynb\" target=\"_parent\"><img src=\"https://colab.research.google.com/assets/colab-badge.svg\" alt=\"Open In Colab\"/></a>"
      ]
    },
    {
      "cell_type": "markdown",
      "metadata": {
        "id": "W_Amfj4OX5tM",
        "colab_type": "text"
      },
      "source": [
        "Program to Swap 1st and last element to a list"
      ]
    },
    {
      "cell_type": "code",
      "metadata": {
        "id": "w6UaRqm7QIPc",
        "colab_type": "code",
        "colab": {}
      },
      "source": [
        "def swap(lst):\n",
        "  l = len(lst) - 1\n",
        "  a = lst[0]\n",
        "  b = lst[l]\n",
        "  ar = a\n",
        "  br = b\n",
        "  c = ar\n",
        "  ar = br\n",
        "  br = c\n",
        "  lst.remove(a)\n",
        "  lst.remove(b)\n",
        "  lst.insert(0,ar)\n",
        "  lst.insert(l,br)\n",
        "  return lst\n",
        "\n",
        "size = int(input(\"Enter size of list \"))\n",
        "listy = []\n",
        "for s in range(size):\n",
        "  num = input(\"Enter the input one by one :\")\n",
        "  listy.append(num)\n",
        "print(swap(listy))"
      ],
      "execution_count": null,
      "outputs": []
    }
  ]
}