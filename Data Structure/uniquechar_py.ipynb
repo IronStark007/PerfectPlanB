{
  "nbformat": 4,
  "nbformat_minor": 0,
  "metadata": {
    "colab": {
      "name": "uniquechar.py",
      "provenance": [],
      "collapsed_sections": [],
      "authorship_tag": "ABX9TyOt44UhQp4brqEU2S0sHJAL",
      "include_colab_link": true
    },
    "kernelspec": {
      "name": "python3",
      "display_name": "Python 3"
    }
  },
  "cells": [
    {
      "cell_type": "markdown",
      "metadata": {
        "id": "view-in-github",
        "colab_type": "text"
      },
      "source": [
        "<a href=\"https://colab.research.google.com/github/IronStark007/PerfectPlanB/blob/master/Data%20Structure/uniquechar_py.ipynb\" target=\"_parent\"><img src=\"https://colab.research.google.com/assets/colab-badge.svg\" alt=\"Open In Colab\"/></a>"
      ]
    },
    {
      "cell_type": "markdown",
      "metadata": {
        "id": "W_Amfj4OX5tM"
      },
      "source": [
        "# Program to check if a string contains all the unique character"
      ]
    },
    {
      "cell_type": "code",
      "metadata": {
        "id": "w6UaRqm7QIPc"
      },
      "source": [
        "def repitive(d):\n",
        "    v = []\n",
        "    l = []\n",
        "    for a,b in d.items():\n",
        "        l.append(b)\n",
        "    l.sort(reverse=True)\n",
        "    for i in l:\n",
        "        if i == 1:\n",
        "            return \"Yes\"\n",
        "        else:\n",
        "            return \"No\"\n",
        " \n",
        "s = input(\"Enter input :\")\n",
        "l = []\n",
        "for i in s.lower():\n",
        "    l.append(i)\n",
        "d = {}\n",
        "for a in l:\n",
        "    d[a]=d.get(a,0)+1\n",
        "print(repitive(d))"
      ],
      "execution_count": null,
      "outputs": []
    }
  ]
}