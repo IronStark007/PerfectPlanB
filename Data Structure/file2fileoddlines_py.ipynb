{
  "nbformat": 4,
  "nbformat_minor": 0,
  "metadata": {
    "colab": {
      "name": "file2fileoddlines.py",
      "provenance": [],
      "collapsed_sections": [],
      "authorship_tag": "ABX9TyOGGUOOJKXMNu4a5YxdO/Lz",
      "include_colab_link": true
    },
    "kernelspec": {
      "name": "python3",
      "display_name": "Python 3"
    }
  },
  "cells": [
    {
      "cell_type": "markdown",
      "metadata": {
        "id": "view-in-github",
        "colab_type": "text"
      },
      "source": [
        "<a href=\"https://colab.research.google.com/github/IronStark007/PerfectPlanB/blob/master/Data%20Structure/file2fileoddlines_py.ipynb\" target=\"_parent\"><img src=\"https://colab.research.google.com/assets/colab-badge.svg\" alt=\"Open In Colab\"/></a>"
      ]
    },
    {
      "cell_type": "markdown",
      "metadata": {
        "id": "W_Amfj4OX5tM"
      },
      "source": [
        "# Program to copy odd lines of one file to the other"
      ]
    },
    {
      "cell_type": "code",
      "metadata": {
        "id": "w6UaRqm7QIPc"
      },
      "source": [
        "f = open(\"file.txt\")\n",
        "nf = open(\"newfile.txt\",\"a\")\n",
        "for i,a in enumerate(f):\n",
        "    s = a.rstrip()\n",
        "    i += 1\n",
        "    if i%2 == 0:\n",
        "        pass\n",
        "    else:\n",
        "        nf.write(f\"{s}\\n\")\n",
        "        print(s)\n",
        "f.close()\n",
        "nf.close()"
      ],
      "execution_count": null,
      "outputs": []
    }
  ]
}