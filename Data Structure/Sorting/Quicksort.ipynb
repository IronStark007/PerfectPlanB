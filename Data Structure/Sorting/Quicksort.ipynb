{
  "nbformat": 4,
  "nbformat_minor": 0,
  "metadata": {
    "colab": {
      "name": "Quicksort",
      "provenance": [],
      "collapsed_sections": [],
      "authorship_tag": "ABX9TyN6GERBYb7MDxybUCSLIGD3",
      "include_colab_link": true
    },
    "kernelspec": {
      "name": "python3",
      "display_name": "Python 3"
    }
  },
  "cells": [
    {
      "cell_type": "markdown",
      "metadata": {
        "id": "view-in-github",
        "colab_type": "text"
      },
      "source": [
        "<a href=\"https://colab.research.google.com/github/IronStark007/PerfectPlanB/blob/master/Data%20Structure/Sorting/Quicksort.ipynb\" target=\"_parent\"><img src=\"https://colab.research.google.com/assets/colab-badge.svg\" alt=\"Open In Colab\"/></a>"
      ]
    },
    {
      "cell_type": "markdown",
      "metadata": {
        "id": "W_Amfj4OX5tM"
      },
      "source": [
        "# Program for Quicksort"
      ]
    },
    {
      "cell_type": "code",
      "metadata": {
        "id": "w6UaRqm7QIPc"
      },
      "source": [
        "#A function to check the original position of the pivot\n",
        "def pivot_place(lst,first,last):\n",
        "    pivot = lst[last]\n",
        "    left = first\n",
        "    right = last-1\n",
        "    while True:\n",
        "        while left<=right and lst[left]>=pivot:\n",
        "            left+=1\n",
        "        while left<=right and lst[right]<=pivot:\n",
        "            right-=1\n",
        "        if right<left:\n",
        "            break\n",
        "        else:\n",
        "            lst[left],lst[right]=lst[right],lst[left]\n",
        "    lst[last],lst[left]=lst[left],lst[last]\n",
        "    return left\n",
        "\n",
        "#A function to quicksort the lst in a recursive manner\n",
        "def quickSort(lst,first,last):\n",
        "    if first<last:\n",
        "        p = pivot_place(lst,first,last)\n",
        "        quickSort(lst,first,p-1)\n",
        "        quickSort(lst,p+1,last)\n",
        "\n",
        "lst1=[9,-3,5,2,6,8,-6,1,3]\n",
        "n = len(lst1)\n",
        "quickSort(lst1,0,n-1)\n",
        "print(lst1)"
      ],
      "execution_count": null,
      "outputs": []
    }
  ]
}