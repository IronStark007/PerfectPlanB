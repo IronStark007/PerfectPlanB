{
  "nbformat": 4,
  "nbformat_minor": 0,
  "metadata": {
    "colab": {
      "name": "invertedpattern.py",
      "provenance": [],
      "collapsed_sections": [],
      "authorship_tag": "ABX9TyMo+nIQ5hLN2KP95GsIaiFg",
      "include_colab_link": true
    },
    "kernelspec": {
      "name": "python3",
      "display_name": "Python 3"
    }
  },
  "cells": [
    {
      "cell_type": "markdown",
      "metadata": {
        "id": "view-in-github",
        "colab_type": "text"
      },
      "source": [
        "<a href=\"https://colab.research.google.com/github/IronStark007/PerfectPlanB/blob/master/Data%20Structure/invertedpattern_py.ipynb\" target=\"_parent\"><img src=\"https://colab.research.google.com/assets/colab-badge.svg\" alt=\"Open In Colab\"/></a>"
      ]
    },
    {
      "cell_type": "markdown",
      "metadata": {
        "id": "W_Amfj4OX5tM",
        "colab_type": "text"
      },
      "source": [
        "# Program to print inverted star pattern"
      ]
    },
    {
      "cell_type": "code",
      "metadata": {
        "id": "w6UaRqm7QIPc",
        "colab_type": "code",
        "colab": {}
      },
      "source": [
        "# 1)\n",
        "size = int(input(\"Enter number of pattern column :\"))\n",
        "for i in range(size+1):\n",
        "    for j in range(i,size):\n",
        "        print(\"*\",end=\" \")\n",
        "    print(\"\\n\")\n",
        "\n",
        "# 2)\n",
        " \n",
        "for i in range (n, 0 , -1):\n",
        "    print((n-i) * ' ' + i * \"*\")"
      ],
      "execution_count": null,
      "outputs": []
    }
  ]
}