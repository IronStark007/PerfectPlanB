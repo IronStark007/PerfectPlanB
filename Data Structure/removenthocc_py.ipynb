{
  "nbformat": 4,
  "nbformat_minor": 0,
  "metadata": {
    "colab": {
      "name": "swaptwopos.py",
      "provenance": [],
      "collapsed_sections": [],
      "authorship_tag": "ABX9TyO2frY5KDTeb/b6wVSnmSuf",
      "include_colab_link": true
    },
    "kernelspec": {
      "name": "python3",
      "display_name": "Python 3"
    }
  },
  "cells": [
    {
      "cell_type": "markdown",
      "metadata": {
        "id": "view-in-github",
        "colab_type": "text"
      },
      "source": [
        "<a href=\"https://colab.research.google.com/github/IronStark007/PerfectPlanB/blob/master/Data%20Structure/removenthocc_py.ipynb\" target=\"_parent\"><img src=\"https://colab.research.google.com/assets/colab-badge.svg\" alt=\"Open In Colab\"/></a>"
      ]
    },
    {
      "cell_type": "markdown",
      "metadata": {
        "id": "W_Amfj4OX5tM",
        "colab_type": "text"
      },
      "source": [
        "# Program to remove nth occurence of a given word"
      ]
    },
    {
      "cell_type": "code",
      "metadata": {
        "id": "w6UaRqm7QIPc",
        "colab_type": "code",
        "colab": {}
      },
      "source": [
        "def removenthword(list,word,n):\n",
        "  c = 0\n",
        "  newlist = []\n",
        "  for i in list:\n",
        "    if i == word:\n",
        "      c += 1\n",
        "      if c != n:\n",
        "        newlist.append(i)\n",
        "    else:\n",
        "      newlist.append(i)\n",
        "  return newlist\n",
        "\n",
        "size = int(input(\"Enter size of list :\"))\n",
        "lst = []\n",
        "for a in range(size):\n",
        "  inp = input(\"Enter input :\")\n",
        "  lst.append(inp)\n",
        "print(lst)\n",
        "w = input(\"Enter word to remove :\")\n",
        "n = int(input(\"Enter occurence :\"))\n",
        "print(\"Updated list\",removenthword(lst,w,n))"
      ],
      "execution_count": null,
      "outputs": []
    }
  ]
}