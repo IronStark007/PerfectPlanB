{
  "nbformat": 4,
  "nbformat_minor": 0,
  "metadata": {
    "colab": {
      "name": "reverselist.py",
      "provenance": [],
      "collapsed_sections": [],
      "authorship_tag": "ABX9TyOQUODv/CNO0E+7ZeBNR77f",
      "include_colab_link": true
    },
    "kernelspec": {
      "name": "python3",
      "display_name": "Python 3"
    }
  },
  "cells": [
    {
      "cell_type": "markdown",
      "metadata": {
        "id": "view-in-github",
        "colab_type": "text"
      },
      "source": [
        "<a href=\"https://colab.research.google.com/github/IronStark007/PerfectPlanB/blob/master/Data%20Structure/reverselist_py.ipynb\" target=\"_parent\"><img src=\"https://colab.research.google.com/assets/colab-badge.svg\" alt=\"Open In Colab\"/></a>"
      ]
    },
    {
      "cell_type": "markdown",
      "metadata": {
        "id": "W_Amfj4OX5tM",
        "colab_type": "text"
      },
      "source": [
        "# Program to reverse list"
      ]
    },
    {
      "cell_type": "code",
      "metadata": {
        "id": "w6UaRqm7QIPc",
        "colab_type": "code",
        "colab": {
          "base_uri": "https://localhost:8080/",
          "height": 67
        },
        "outputId": "2e9e83c9-bf58-4746-cbd1-e72e5b81de46"
      },
      "source": [
        "# 1) using slicing function\n",
        "l1 = [1,2,3,4,5]\n",
        "print(l1[::-1])\n",
        "\n",
        "# 2) using reversed iteration function\n",
        "l2 = [6,7,8,9,10]\n",
        "revl2 = []\n",
        "for i in reversed(l2):\n",
        "  revl2.append(i)\n",
        "print(revl2)\n",
        "\n",
        "#3)\n",
        "l3 = [2,4,6,8,10]\n",
        "l3.reverse()\n",
        "print(l3)"
      ],
      "execution_count": 2,
      "outputs": [
        {
          "output_type": "stream",
          "text": [
            "[5, 4, 3, 2, 1]\n",
            "[10, 9, 8, 7, 6]\n",
            "[10, 8, 6, 4, 2]\n"
          ],
          "name": "stdout"
        }
      ]
    }
  ]
}