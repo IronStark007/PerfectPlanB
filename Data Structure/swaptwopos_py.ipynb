{
  "nbformat": 4,
  "nbformat_minor": 0,
  "metadata": {
    "colab": {
      "name": "swaptwopos.py",
      "provenance": [],
      "collapsed_sections": [],
      "authorship_tag": "ABX9TyMN57uUReXQTWl9ycWFBTd1",
      "include_colab_link": true
    },
    "kernelspec": {
      "name": "python3",
      "display_name": "Python 3"
    }
  },
  "cells": [
    {
      "cell_type": "markdown",
      "metadata": {
        "id": "view-in-github",
        "colab_type": "text"
      },
      "source": [
        "<a href=\"https://colab.research.google.com/github/IronStark007/PerfectPlanB/blob/master/Data%20Structure/swaptwopos_py.ipynb\" target=\"_parent\"><img src=\"https://colab.research.google.com/assets/colab-badge.svg\" alt=\"Open In Colab\"/></a>"
      ]
    },
    {
      "cell_type": "markdown",
      "metadata": {
        "id": "W_Amfj4OX5tM",
        "colab_type": "text"
      },
      "source": [
        "# Program to swap two position of your choice"
      ]
    },
    {
      "cell_type": "code",
      "metadata": {
        "id": "w6UaRqm7QIPc",
        "colab_type": "code",
        "colab": {}
      },
      "source": [
        " def swap(lst,x,y):\n",
        "  a = lst[x]\n",
        "  b = lst[y]\n",
        "  ar = a\n",
        "  br = b\n",
        "  c = ar\n",
        "  ar = br\n",
        "  br = c\n",
        "  lst.remove(a)\n",
        "  lst.remove(b)\n",
        "  lst.insert(x,ar)\n",
        "  lst.insert(y,br)\n",
        "  return lst\n",
        " \n",
        "size = int(input(\"Enter size of list \"))\n",
        "listy = []\n",
        "for s in range(size):\n",
        "  num = input(\"Enter the input one by one :\")\n",
        "  listy.append(num)\n",
        "x = int(input(\"Enter 1st position :\"))\n",
        "y = int(input(\"Enter 2nd position :\"))\n",
        "print(swap(listy,x-1,y-1))"
      ],
      "execution_count": null,
      "outputs": []
    }
  ]
}