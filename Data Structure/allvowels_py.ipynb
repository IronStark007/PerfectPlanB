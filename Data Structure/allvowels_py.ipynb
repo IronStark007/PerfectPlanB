{
  "nbformat": 4,
  "nbformat_minor": 0,
  "metadata": {
    "colab": {
      "name": "allvowels.py",
      "provenance": [],
      "collapsed_sections": [],
      "authorship_tag": "ABX9TyMMOlNH96OoJ4OCLVBsy5Xx",
      "include_colab_link": true
    },
    "kernelspec": {
      "name": "python3",
      "display_name": "Python 3"
    }
  },
  "cells": [
    {
      "cell_type": "markdown",
      "metadata": {
        "id": "view-in-github",
        "colab_type": "text"
      },
      "source": [
        "<a href=\"https://colab.research.google.com/github/IronStark007/PerfectPlanB/blob/master/Data%20Structure/allvowels_py.ipynb\" target=\"_parent\"><img src=\"https://colab.research.google.com/assets/colab-badge.svg\" alt=\"Open In Colab\"/></a>"
      ]
    },
    {
      "cell_type": "markdown",
      "metadata": {
        "id": "W_Amfj4OX5tM"
      },
      "source": [
        "# Program to check if a given string contains all vowels"
      ]
    },
    {
      "cell_type": "code",
      "metadata": {
        "id": "w6UaRqm7QIPc"
      },
      "source": [
        "s = input(\"Enter input :\")\n",
        "l = []\n",
        "for i in s.lower():\n",
        "    l.append(i)\n",
        "d = {}\n",
        "for j in l:\n",
        "    d[j]=d.get(j,0)+1\n",
        "k = d.keys()\n",
        "nk = []\n",
        "print(\"Without order:\",end=\"\")\n",
        "for a in k:\n",
        "    print(a,end=\"\")\n",
        "    nk.append(a)\n",
        "nk.sort()\n",
        "print(\"\\nWith order:\",end=\"\")\n",
        "for b in nk:\n",
        "    print(b,end=\"\")"
      ],
      "execution_count": null,
      "outputs": []
    }
  ]
}