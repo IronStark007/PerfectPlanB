<script src="https://gist.github.com/IronStark007/b56d23e11813bec1295ccfa531d210e3.js"></script>
