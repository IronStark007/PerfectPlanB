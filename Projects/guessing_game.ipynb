{
 "cells": [
  {
   "cell_type": "code",
   "execution_count": 1,
   "metadata": {},
   "outputs": [],
   "source": [
    "# importing random module\n",
    "import random as r\n",
    "\n",
    "def guessing_word(file):\n",
    "    # reading the file contains random words\n",
    "    f=open(file)\n",
    "    read=f.readlines()\n",
    "\n",
    "    # add each random words in a list\n",
    "    guess_list=[i.rstrip() for i in read]\n",
    "\n",
    "    # importing random module to initiate random word\n",
    "    choice=r.choice(guess_list)\n",
    "\n",
    "    # checking if the input word or alphabet is in guess word \n",
    "    i=1\n",
    "    while i<=10:\n",
    "        guess=input('Enter the word or alphabet to guess : ')\n",
    "        if guess.lower() == choice.lower():\n",
    "            print(f'Congratulations, you guess the correct word {guess}')\n",
    "            break\n",
    "        elif guess.lower() in choice.lower():\n",
    "            print(f'Yes, the word has {guess} with a count of {choice.lower().count(guess)}\\nYou have {10-i} chances left out of 10')\n",
    "        else:\n",
    "            print(f'Soory, Try Again !!!\\nYou have {10-i} chances left out of 10')\n",
    "        i+=1\n",
    "    return f'Total chance taken {10-i}'\n"
   ]
  },
  {
   "cell_type": "code",
   "execution_count": 2,
   "metadata": {},
   "outputs": [
    {
     "name": "stdout",
     "output_type": "stream",
     "text": [
      "Enter the word or alphabet to guess : b\n",
      "Yes, the word has b with a count of 1\n",
      "You have 9 chances left out of 10\n",
      "Enter the word or alphabet to guess : o\n",
      "Soory, Try Again !!!\n",
      "You have 8 chances left out of 10\n",
      "Enter the word or alphabet to guess : o\n",
      "Soory, Try Again !!!\n",
      "You have 7 chances left out of 10\n",
      "Enter the word or alphabet to guess : c\n",
      "Soory, Try Again !!!\n",
      "You have 6 chances left out of 10\n",
      "Enter the word or alphabet to guess : u\n",
      "Soory, Try Again !!!\n",
      "You have 5 chances left out of 10\n",
      "Enter the word or alphabet to guess : e\n",
      "Yes, the word has e with a count of 1\n",
      "You have 4 chances left out of 10\n",
      "Enter the word or alphabet to guess : m\n",
      "Soory, Try Again !!!\n",
      "You have 3 chances left out of 10\n",
      "Enter the word or alphabet to guess : n\n",
      "Yes, the word has n with a count of 2\n",
      "You have 2 chances left out of 10\n",
      "Enter the word or alphabet to guess : d\n",
      "Yes, the word has d with a count of 1\n",
      "You have 1 chances left out of 10\n",
      "Enter the word or alphabet to guess : dining-table\n",
      "Congratulations, you guess the correct word dining-table\n",
      "Total chance taken 0\n"
     ]
    }
   ],
   "source": [
    "#driver's code\n",
    "file='guess.txt'\n",
    "guess_word=guessing_word(file)\n",
    "print(guess_word)"
   ]
  }
 ],
 "metadata": {
  "_draft": {
   "nbviewer_url": "https://gist.github.com/f236278d56c030614b92c2e5b092bec2"
  },
  "gist": {
   "data": {
    "description": "Guessing game project",
    "public": true
   },
   "id": "f236278d56c030614b92c2e5b092bec2"
  },
  "kernelspec": {
   "display_name": "Python 3",
   "language": "python",
   "name": "python3"
  },
  "language_info": {
   "codemirror_mode": {
    "name": "ipython",
    "version": 3
   },
   "file_extension": ".py",
   "mimetype": "text/x-python",
   "name": "python",
   "nbconvert_exporter": "python",
   "pygments_lexer": "ipython3",
   "version": "3.8.5"
  }
 },
 "nbformat": 4,
 "nbformat_minor": 4
}
